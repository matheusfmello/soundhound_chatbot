{
 "cells": [
  {
   "cell_type": "code",
   "execution_count": 12,
   "metadata": {},
   "outputs": [],
   "source": [
    "from bs4 import BeautifulSoup\n",
    "from urllib.request import Request, urlopen\n",
    "import re"
   ]
  },
  {
   "cell_type": "code",
   "execution_count": 13,
   "metadata": {},
   "outputs": [],
   "source": [
    "general = [\n",
    "    'https://www.soundhound.com/',\n",
    "    'https://www.soundhound.com/customers',\n",
    "    'https://www.soundhound.com/about/'\n",
    "]\n",
    "\n",
    "products = [\n",
    "    'https://www.soundhound.com/voice-ai-products',\n",
    "    'https://www.soundhound.com/voice-ai-products/wake-word/',\n",
    "    'https://www.soundhound.com/voice-ai-products/asr/',\n",
    "    'https://www.soundhound.com/voice-ai-products/nlu/',\n",
    "    'https://www.soundhound.com/voice-ai-products/tts/',\n",
    "    'https://www.soundhound.com/voice-ai-products/edge/',\n",
    "]\n",
    "\n",
    "services = [\n",
    "    'https://www.soundhound.com/why-soundhound/',\n",
    "    'https://www.soundhound.com/voice-ai-solutions/',\n",
    "    'https://www.soundhound.com/voice-ai-solutions/automotive/',\n",
    "    'https://www.soundhound.com/voice-ai-solutions/smart-devices/',\n",
    "    'https://www.soundhound.com/voice-ai-solutions/hospitality/',\n",
    "    'https://www.soundhound.com/voice-ai-solutions/restaurant-food-ordering/',\n",
    "]\n",
    "\n",
    "def clean_text(text: str) -> str:\n",
    "    \n",
    "    return re.sub(' +', ' ', re.sub('\\n+', '\\n', text))"
   ]
  },
  {
   "cell_type": "code",
   "execution_count": 14,
   "metadata": {},
   "outputs": [],
   "source": [
    "textList = []\n",
    "\n",
    "for url in general:\n",
    "    \n",
    "    req = Request(url, headers={'User-Agent': 'Mozilla/5.0'})\n",
    "    html = urlopen(req).read()\n",
    "    soup = BeautifulSoup(html, 'html.parser')\n",
    "    dirty_text = soup.get_text()\n",
    "    text = clean_text(dirty_text)\n",
    "    textList.append(text)\n",
    "    "
   ]
  },
  {
   "cell_type": "code",
   "execution_count": 15,
   "metadata": {},
   "outputs": [],
   "source": [
    "full_text = '\\n'.join(textList)\n",
    "\n",
    "with open('soundhound-general.txt', 'w', encoding='utf-8') as f:\n",
    "    \n",
    "    f.write(full_text)"
   ]
  },
  {
   "cell_type": "code",
   "execution_count": 16,
   "metadata": {},
   "outputs": [],
   "source": [
    "textList = []\n",
    "\n",
    "for url in products:\n",
    "    \n",
    "    req = Request(url, headers={'User-Agent': 'Mozilla/5.0'})\n",
    "    html = urlopen(req).read()\n",
    "    soup = BeautifulSoup(html, 'html.parser')\n",
    "    dirty_text = soup.get_text()\n",
    "    text = clean_text(dirty_text)\n",
    "    textList.append(text)"
   ]
  },
  {
   "cell_type": "code",
   "execution_count": 17,
   "metadata": {},
   "outputs": [],
   "source": [
    "full_text = '\\n'.join(textList)\n",
    "\n",
    "with open('soundhound-products.txt', 'w', encoding='utf-8') as f:\n",
    "    \n",
    "    f.write(full_text)"
   ]
  },
  {
   "cell_type": "code",
   "execution_count": 18,
   "metadata": {},
   "outputs": [],
   "source": [
    "textList = []\n",
    "\n",
    "for url in services:\n",
    "    \n",
    "    req = Request(url, headers={'User-Agent': 'Mozilla/5.0'})\n",
    "    html = urlopen(req).read()\n",
    "    soup = BeautifulSoup(html, 'html.parser')\n",
    "    dirty_text = soup.get_text()\n",
    "    text = clean_text(dirty_text)\n",
    "    textList.append(text)"
   ]
  },
  {
   "cell_type": "code",
   "execution_count": 19,
   "metadata": {},
   "outputs": [],
   "source": [
    "full_text = '\\n'.join(textList)\n",
    "\n",
    "with open('soundhound-services.txt', 'w', encoding='utf-8') as f:\n",
    "    \n",
    "    f.write(full_text)"
   ]
  },
  {
   "cell_type": "code",
   "execution_count": null,
   "metadata": {},
   "outputs": [],
   "source": []
  }
 ],
 "metadata": {
  "kernelspec": {
   "display_name": "ragChatbot",
   "language": "python",
   "name": "python3"
  },
  "language_info": {
   "codemirror_mode": {
    "name": "ipython",
    "version": 3
   },
   "file_extension": ".py",
   "mimetype": "text/x-python",
   "name": "python",
   "nbconvert_exporter": "python",
   "pygments_lexer": "ipython3",
   "version": "3.10.13"
  }
 },
 "nbformat": 4,
 "nbformat_minor": 2
}
